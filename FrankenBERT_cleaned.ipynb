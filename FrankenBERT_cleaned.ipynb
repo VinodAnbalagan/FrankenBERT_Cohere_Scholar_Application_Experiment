{
  "nbformat": 4,
  "nbformat_minor": 0,
  "metadata": {
    "colab": {
      "provenance": [],
      "machine_shape": "hm",
      "authorship_tag": "ABX9TyPA+fmU6HJz8LXpre2eZJ1R"
    },
    "kernelspec": {
      "name": "python3",
      "display_name": "Python 3"
    },
    "language_info": {
      "name": "python"
    }
  },
  "cells": [
    {
      "cell_type": "code",
      "source": [
        "print(\"--- STEP 1: SETUP AND PREPARATION ---\")\n",
        "\n",
        "# Connect to Google Drive - This should be the VERY FIRST step.\n",
        "from google.colab import drive\n",
        "drive.mount('/content/drive')"
      ],
      "metadata": {
        "colab": {
          "base_uri": "https://localhost:8080/"
        },
        "id": "YaSottjm7iml",
        "executionInfo": {
          "status": "ok",
          "timestamp": 1756513071795,
          "user_tz": 240,
          "elapsed": 17744,
          "user": {
            "displayName": "Vinod Anbalagan",
            "userId": "10582493003435195414"
          }
        },
        "outputId": "07ae3d9d-751e-4082-9d62-4d14fa623683"
      },
      "execution_count": null,
      "outputs": []
    },
    {
      "cell_type": "code",
      "source": [
        "# Install libraries\n",
        "print(\"\\n--- Installing required libraries ---\")\n",
        "!pip install transformers datasets evaluate accelerate scikit-learn seaborn matplotlib -q\n"
      ],
      "metadata": {
        "colab": {
          "base_uri": "https://localhost:8080/"
        },
        "id": "W0s5eB88-AgK",
        "executionInfo": {
          "status": "ok",
          "timestamp": 1756474195241,
          "user_tz": 240,
          "elapsed": 8435,
          "user": {
            "displayName": "Vinod Anbalagan",
            "userId": "10582493003435195414"
          }
        },
        "outputId": "7b11ccb3-0106-4499-dca1-c4230a55c098"
      },
      "execution_count": null,
      "outputs": []
    },
    {
      "cell_type": "code",
      "source": [
        "import os\n",
        "import json\n",
        "import torch\n",
        "import shutil # For safely copying files like config.json\n",
        "import numpy as np\n",
        "import pandas as pd\n",
        "import matplotlib.pyplot as plt\n",
        "import torch.nn.functional as F\n",
        "from collections import OrderedDict\n",
        "from datasets import load_dataset\n",
        "from transformers import (\n",
        "    AutoTokenizer,\n",
        "    AutoModelForSequenceClassification,\n",
        "    AutoModel,\n",
        "    TrainingArguments,\n",
        "    Trainer,\n",
        ")\n",
        "import evaluate\n"
      ],
      "metadata": {
        "id": "95hAMGPl92Wk"
      },
      "execution_count": null,
      "outputs": []
    },
    {
      "cell_type": "code",
      "source": [
        "# Define permanent paths in Google Drive\n",
        "DRIVE_BASE_PATH = '/content/drive/MyDrive/CohereProject_FrankenBERT' # Renamed for clarity\n",
        "os.makedirs(DRIVE_BASE_PATH, exist_ok=True)\n",
        "\n",
        "# Specific paths for models WITH classification heads (for final evaluation)\n",
        "poet_final_save_path = os.path.join(DRIVE_BASE_PATH, 'poet_model_final')\n",
        "scientist_final_save_path = os.path.join(DRIVE_BASE_PATH, 'scientist_model_final')\n",
        "frankenbert_final_save_path = os.path.join(DRIVE_BASE_PATH, 'frankenbert_model_final')\n",
        "\n",
        "# Specific paths for BASE models WITHOUT heads (for merging)\n",
        "poet_base_save_path = os.path.join(DRIVE_BASE_PATH, 'poet_model_base')\n",
        "scientist_base_save_path = os.path.join(DRIVE_BASE_PATH, 'scientist_model_base')\n",
        "\n",
        "# Temporary path for heatmap models (can be in /content/ since they are transient)\n",
        "temp_merge_path = '/content/temp_merge_model'\n"
      ],
      "metadata": {
        "id": "HldPGpKe971-"
      },
      "execution_count": null,
      "outputs": []
    },
    {
      "cell_type": "code",
      "source": [
        "\n",
        "# --- Hugging Face Login ---\n",
        "# This allows us to potentially download gated models or push our own.\n",
        "# We'll use your Colab secret named 'HF_TOKEN'.\n",
        "from google.colab import userdata\n",
        "\n",
        "try:\n",
        "    hf_token = userdata.get('HF_TOKEN')\n",
        "    from huggingface_hub import login\n",
        "    login(token=hf_token)\n",
        "    print(\"Successfully logged into Hugging Face Hub.\")\n",
        "except:\n",
        "    print(\"Hugging Face token not found or invalid. Proceeding without login.\")"
      ],
      "metadata": {
        "colab": {
          "base_uri": "https://localhost:8080/"
        },
        "id": "En8g28E7Wi3D",
        "executionInfo": {
          "status": "ok",
          "timestamp": 1756474249429,
          "user_tz": 240,
          "elapsed": 690,
          "user": {
            "displayName": "Vinod Anbalagan",
            "userId": "10582493003435195414"
          }
        },
        "outputId": "ee638523-ba61-4424-e0e3-e55de420a358"
      },
      "execution_count": null,
      "outputs": []
    },
    {
      "cell_type": "code",
      "source": [
        "# Check for GPU\n",
        "if torch.cuda.is_available():\n",
        "    print(f\"GPU is available: {torch.cuda.get_device_name(0)}\")\n",
        "    device = torch.device(\"cuda\")\n",
        "else:\n",
        "    print(\"GPU not available. Training will be very slow.\")\n",
        "    device = torch.device(\"cpu\")"
      ],
      "metadata": {
        "colab": {
          "base_uri": "https://localhost:8080/"
        },
        "id": "QfNBcN7eWVWn",
        "executionInfo": {
          "status": "ok",
          "timestamp": 1756474253002,
          "user_tz": 240,
          "elapsed": 18,
          "user": {
            "displayName": "Vinod Anbalagan",
            "userId": "10582493003435195414"
          }
        },
        "outputId": "06d04437-991f-4974-a0bc-061222fe8368"
      },
      "execution_count": null,
      "outputs": []
    },
    {
      "cell_type": "code",
      "source": [
        "# Universal tokenizer and metrics\n",
        "model_checkpoint = \"distilbert-base-uncased\"\n",
        "tokenizer = AutoTokenizer.from_pretrained(model_checkpoint)\n",
        "accuracy_metric = evaluate.load(\"accuracy\")\n",
        "def compute_metrics(eval_pred):\n",
        "    predictions, labels = eval_pred\n",
        "    predictions = np.argmax(predictions, axis=1)\n",
        "    return accuracy_metric.compute(predictions=predictions, references=labels)"
      ],
      "metadata": {
        "colab": {
          "base_uri": "https://localhost:8080/",
          "height": 177,
          "referenced_widgets": [
            "d8bf116e129c425d9c48c45f5426a822",
            "e4479b54934247618fb45571e31ffcf6",
            "9a98fd0152c04d1b86fa07baa9a0549c",
            "230716d74ac14ecfbe5e5e941f93c451",
            "8fafd372b12c496fbfc6316b14ac4ca0",
            "4bcd2d93d2bb4dea90551936c9502c69",
            "da9bab091498431ba4e383a126b40919",
            "a2d1f8442b5c450b890b2f810562d56a",
            "4f58bc04846f41c69d97e01ce7fc5775",
            "d388c2046b544d608e900f54fb01c6d3",
            "1a8f871a43c04932914f1083454d3dad",
            "58393712b0414d28940027d8d773061d",
            "464542a935f749dd9ffaffce26736a07",
            "f35858ddc46c4c208b685380b032359b",
            "ce7e33585ae24d92b169c966e168ca73",
            "38f7da008e96448e9a32381034464284",
            "290abcd517df440ea7a01bf6b6a4d381",
            "063e163ebb6c4d0ea458964d3499f3b9",
            "76bfa5ccecfc4880819fb3395e4e4fca",
            "4357eb63e67441169f3cae16d2f7de8b",
            "2a6fe4c1478647eca0afafe6b2a68cd1",
            "0bc1e189b7c0470c9ac10be97837d32c",
            "ff3bf5d6db58421d8da99e48fa324f9e",
            "e7e67650d81c4f1d8b49e66b50efe1ee",
            "2827102b93ac4f5dbe00eb1a75672cc1",
            "45a43fffe3994493bdbb4fadd715f57a",
            "fd641a0490b74db69c1941a54391ffea",
            "00d58dd191ea4e668f7a629b33af12d0",
            "796f657415004f6db9edabf837732350",
            "6637645d899642f5ae22aa8d73c0b12c",
            "7a799c84fddf4ee798e6e61be0dc8a72",
            "5d965d4c7358479db29e82e625ea9f5d",
            "2af5ab43c3104688a69b1297996a624a",
            "df7159d9016542c1860c46f6189929d1",
            "3263f774285f4cb0a6536d8ae7bfae95",
            "62557c4382724c55b662d73ec9e9dd6b",
            "cc7bfc08ee394c5aa5f6fef44c99ce5a",
            "115d45b2da3f4d3981422a7bf7f3e1d6",
            "596249557ebc48b2a4588f8780ffcb83",
            "83a8e3d775dc449ba8e352fadc940d89",
            "a03f8f794cd347c7b0c259fd82704012",
            "1229c1deb5954b2b93f47be08754f419",
            "daa2048bf5b54560b4d9ba5540e8bf96",
            "75d63dcd5c1b465a8c69fc0cfaf326c8",
            "a02beb3f43af423790855efd179758d1",
            "f27e8d9965304cb4ad8a29662f6cceab",
            "ef05c00a18b14567912dc3449248b78e",
            "a628363f40c84c0da67fed858ab5ab3e",
            "83699e85d1254d5e8dcde6559e84bafb",
            "97b6b2cbc10f40089475ecee0d64385c",
            "a4ffc8daf5cc40368f73aaa1df10bb2d",
            "2f9a99255e9d429b8da54b05e5e6f67f",
            "6c9333b2b1c54acdaaf2cf12c5df375e",
            "fcb168bbe27f4ba2b29a4aa5d5adb4ee",
            "c1abd7ba2cc54d0488def1c6787d1b68"
          ]
        },
        "id": "zfYShMAf-j0t",
        "executionInfo": {
          "status": "ok",
          "timestamp": 1756474262728,
          "user_tz": 240,
          "elapsed": 6968,
          "user": {
            "displayName": "Vinod Anbalagan",
            "userId": "10582493003435195414"
          }
        },
        "outputId": "4d4fe194-5a9c-4602-aba3-bfce3e4411eb"
      },
      "execution_count": null,
      "outputs": []
    },
    {
      "cell_type": "markdown",
      "source": [
        "# TRAIN SPECIALIST MODELS"
      ],
      "metadata": {
        "id": "fOjh4sKP-oOF"
      }
    },
    {
      "cell_type": "markdown",
      "source": [
        "## Train Model A - \"The Poet\" (Sentiment Expert)"
      ],
      "metadata": {
        "id": "Q4Rvg2EgXIiP"
      }
    },
    {
      "cell_type": "code",
      "source": [
        "print(\"\\n--- Preparing Poet (SST-2) ---\")\n",
        "poet_dataset = load_dataset(\"glue\", \"sst2\")\n",
        "def tokenize_poet(batch):\n",
        "    return tokenizer(batch[\"sentence\"], padding=\"max_length\", truncation=True)\n",
        "tokenized_poet_dataset = poet_dataset.map(tokenize_poet, batched=True)\n",
        "\n",
        "poet_model = AutoModelForSequenceClassification.from_pretrained(model_checkpoint, num_labels=2)\n",
        "poet_training_args = TrainingArguments(output_dir=\"/content/poet_training_output\", eval_strategy=\"epoch\", num_train_epochs=3)\n",
        "poet_trainer = Trainer(model=poet_model, args=poet_training_args, train_dataset=tokenized_poet_dataset[\"train\"], eval_dataset=tokenized_poet_dataset[\"validation\"], compute_metrics=compute_metrics)\n",
        "\n",
        "print(\"--- Starting Poet training ---\")\n",
        "poet_trainer.train()\n",
        "poet_trainer.save_model(poet_final_save_path)\n",
        "print(f\"--- Poet training complete. Final model saved to: {poet_final_save_path} ---\")"
      ],
      "metadata": {
        "colab": {
          "base_uri": "https://localhost:8080/",
          "height": 923,
          "referenced_widgets": [
            "25f5fd8ae36d4eb996a6138ed31907df",
            "999365bed433481cbf467e42a4bb725e",
            "017843fc862f4116a0d134dbaa3fa394",
            "e09c6014e84f4c65939ff01706275afe",
            "a183078288744241beb11f3b8e9b25f0",
            "b582e3a89e024bdc89d56cebda709867",
            "83c856c63d254cd3a8f8d0ed12275385",
            "8acd4aae070d4eaa8a1ab059d290ddc5",
            "d4c16236b9214752af04649b8835c68c",
            "63a8200be3484fc687933a8fac0a4fb4",
            "69b615a67fa742ff9e28a1b6226a9a2f",
            "bdc27ab6a6a3448b824a14d7e39b5d8e",
            "e71a220855f443d987e71c467452b163",
            "0a959ab16d5b42078ebe708db5088199",
            "499491d1c112433686d9b7a72605ec99",
            "bd383a8ea2df46fe8e8f482133f6f90a",
            "d9d0951197c644989be50250cc171006",
            "f1f6da7d26d8412cb4ed38f1cc143d45",
            "990ad890ddea4299add4602ac4c63ea0",
            "84f97a9fdefa4ba99737336a33b8de64",
            "369829bbfd3b460788377d4c5062b5c0",
            "c284b1376a394b8b9bca51992f13150e",
            "b25274520770471289cac1b80d8bc9dc",
            "841476ec5bb44a7c9e47719f42441aa1",
            "171d6645fc624e2b95158ce1e9f8bc43",
            "70806dee91c84994bf2f6717957229f0",
            "1c4ec5bd91a7411091c3c1ca213c251b",
            "3be0bdbecd9c4b2da9890750ee4470dc",
            "d6f5c8c2bf224a79a49b7782bb29a94e",
            "cb9ddd50afe34ab2a0743a04ef7b4c75",
            "0528e1a9adff40aead8cdf0cdde50fa0",
            "bce689bdc39e44bd9fd9da7c3a7866fd",
            "22a90269f489440484523cf0e422b64c",
            "62c19674ff584f2c8aba3fe94946f720",
            "df14f26227be476da0d07bf4930fc2f3",
            "f791d9f8c80a463782e03ddb72b7102b",
            "0e9a1f683b1f4d20b70e598f34cce1d2",
            "72aebde6d0fe427b81914203f836cda8",
            "0878868e1bc94245a13f8bcfbe2e6de9",
            "5dd5ce7ba5cd47a684f12104da76851f",
            "b1e8608a38e54981b814e80ac935b8a7",
            "180e491d1ced43898d3a1da4acbd1b0a",
            "5fea0c3d002140739818c32da3cfb567",
            "167c1abda49847e7a0a4f7a02ed41256",
            "122367bc14894d7894dc27e454bb131c",
            "33beaeb5e39c478bbf90038da784819d",
            "57eafadc0cbb44159de5909210c7a7a7",
            "022d55fec79f40efa0f66f908968ce14",
            "335ad355fcc2493eb23189ca130865ac",
            "e3f879867df84a18ad32973aeac686c6",
            "e2344a3d8bb34147bbf1f68253e9545c",
            "06d2420de5234fd1ae3713770e2c303d",
            "1ed3e107ee4f4026b0ac68fb2a40e19a",
            "64b5dd17ccf14c949c782479f26ec63d",
            "bc7d2a6473224ba093592d9654a702fb",
            "276b20956a61475897b7934c64407134",
            "0d136f719639409fb3c0f80c54fd450b",
            "6452d12796cc46de9001fede27b55b11",
            "74efebfde96a4942bc6b273b3b1c7afc",
            "b4a77ef0ecea4ebc9bf31d9762e35964",
            "0540981de0d940769cd78a64df11440a",
            "7d957f6344ad44d8bffdc0f5672bc8a0",
            "cbc847ea9fef41ac81871cfe3eecd3b9",
            "9de96d05a66a46269c700d2f113fb6ae",
            "963f1f427b3741edbd95f7aae2c95adb",
            "f63fd1c5010342abafbab4320a3eb8a1",
            "b71b14d72af347cfafeab609b4b134f0",
            "48087cc2fb9d4726894c90f38840636d",
            "2fc587dbf3ab4f66bed0166f082cf165",
            "fa0bc3e729f24cb48059db7398e5c8bd",
            "81108aba0b214f05b650b0c2b8c8336b",
            "e738b73ac5aa46b49a84e8d504d33082",
            "96f8237ef68c4d299cf47d86ed53e893",
            "458e1f9482d04701baaf2ea74ecdbee0",
            "0a1a6395a2a7418da7842bc8479641d5",
            "bf048c3aaa7c4f3ea4e325f8b6982d4d",
            "c8d25adee9704111b34e456ba2af0db1",
            "9ad8dcefa6004ed7b20967f5961b3001",
            "33c49d260b204accb76e14cf984d8aab",
            "199b0ff11dcf4b9aa32a178f5948c040",
            "234451cb3faa42668b59d383c894609d",
            "ffeef9a4b4c44c62bcfd278942d877f8",
            "cb011b6744ed4c7f8ad3f121396e428f",
            "af745d8d43324010a9f26f35537c15de",
            "a1de4154692c46b9aee6d0b2422f522b",
            "86ec9f2a079242928cb2aea50237ab1d",
            "4f5072be01d44e4d9e89cd187632b2f9",
            "be5550ce061148eeafe5940bfc0ce6a0",
            "81f96eed377e4e8a8c9d69fdd0183791",
            "2430b1f19a3a4242a1e4912dfcdb7a94",
            "5bf9dc0efd5b4af98a074efa44279d94",
            "c3e3b98f353f479e8e98d360ff2cf13a",
            "c7fb6e66958040a5b3842761f7c1e55c",
            "0100326e5f4f4640a056b0891c06743a",
            "12f0b5e07a3c4239b6eda8304b20052d",
            "55fae15e34b0423d8b8cd0a1a112a40d",
            "4b800615ff5247909675c8fc149d86a3",
            "9de47fb0686e4257b198639b0af6ff51",
            "cc770668da5344cab37518e489cd9aaa",
            "18f8cf3ed119418596596b6ecc794f28",
            "1b685cf5b9174628bd8d48146f85e83f",
            "72130be3a0cf4f0385ae7b395a279de5",
            "855aab9fc35348289e057eb66d78d73d",
            "8a0b6872ef3d4186aa62947bd25f64ba",
            "64201f6e1e524a5e8c16c1d3524a38d1",
            "ccda591da1dd453192b2c559dce668c7",
            "366d453f3d924ec9a59292c4fc11343a",
            "8ce9072b30d84d67a2fc7e9f5165684c",
            "4fd5245736c94e87b5be85ae9038384d",
            "d815c23938c240c887ecb72eddbeac0f",
            "665c7a566a854364a3bb42b17244bbed",
            "dc46b42695f744a187ee1bdd283d31a9",
            "802219c4ea97454d835442b3f26c2295",
            "60840776fe624e0f9a6bb13fbb36dace",
            "1c9fc5818cf649e19dc09e55b1e0e897",
            "6d9344413b5e47979e19f733d0a35a25",
            "33ce8c640fc547f7a3837472736e3237",
            "8757b855373941109605ad74eefb4c8f",
            "46b0ade5e5f646b2a2cc4f34ee2d57b6",
            "544774f35b9947dca3d293fb6a096133",
            "dbff4d1ad12047a6982d3848aa59f0a1"
          ]
        },
        "id": "t-f_nybY-ugS",
        "executionInfo": {
          "status": "ok",
          "timestamp": 1756476597414,
          "user_tz": 240,
          "elapsed": 2324449,
          "user": {
            "displayName": "Vinod Anbalagan",
            "userId": "10582493003435195414"
          }
        },
        "outputId": "f4b44eb5-e956-4ed0-fa2e-d879eca9540d"
      },
      "execution_count": null,
      "outputs": []
    },
    {
      "cell_type": "markdown",
      "source": [
        "## Train Model B - \"The Scientist\" (Factual Expert)"
      ],
      "metadata": {
        "id": "EdhitJQgbDHN"
      }
    },
    {
      "cell_type": "code",
      "source": [
        "print(\"\\n--- Preparing Scientist (AG News) ---\")\n",
        "scientist_dataset = load_dataset(\"ag_news\")\n",
        "def tokenize_scientist(batch):\n",
        "    return tokenizer(batch[\"text\"], padding=\"max_length\", truncation=True)\n",
        "tokenized_scientist_dataset = scientist_dataset.map(tokenize_scientist, batched=True).rename_column(\"label\", \"labels\")\n",
        "\n",
        "scientist_model = AutoModelForSequenceClassification.from_pretrained(model_checkpoint, num_labels=4)\n",
        "scientist_training_args = TrainingArguments(output_dir=\"/content/scientist_training_output\", eval_strategy=\"epoch\", num_train_epochs=3)\n",
        "scientist_trainer = Trainer(model=scientist_model, args=scientist_training_args, train_dataset=tokenized_scientist_dataset[\"train\"], eval_dataset=tokenized_scientist_dataset[\"test\"], compute_metrics=compute_metrics)\n"
      ],
      "metadata": {
        "colab": {
          "base_uri": "https://localhost:8080/",
          "height": 330,
          "referenced_widgets": [
            "88baa8d003eb4e91892de969020440be",
            "7ac046dcc8604cecad93f54e6cacd65d",
            "cb75bd79ec1a4d69955beaa8d8f0ed64",
            "f0ded37347984e7cb172ec74b02f1160",
            "fe809bfc64f840ecab7b4c34e245f834",
            "47197b7a6b42481c83850f7650a9c22b",
            "8af0a0f46ee94e7fa3aebfae5582d4df",
            "ed3d3a4fdc474837826b3bef3ccf2be2",
            "ec04b483e2cf4e1b964702f80c91110a",
            "7789eddcc3854922bcadc2e40523fd10",
            "93cfbe734d84413787d93b7fc35b0c51",
            "ce6e49301391401b85cd85329e84e0f1",
            "d67435b07caa44b087c57662f923ad3c",
            "4bc46d20e5b8442284d67bc0bdb483a8",
            "0e8728016f9f4b629b8c6f6de3a86e1d",
            "e420ff2385e7453480ca1a0f6c7135c2",
            "299a73121ea64fde8b9100c28c42491b",
            "7ce1721a50e649ea8571d883ba84c2d7",
            "ca30dfd5f58a4ce6884a4b729de6f936",
            "e9d71401ab6542f5aa0d54b673cddd83",
            "a9a990db6f534dcc970411f56a3177f9",
            "863ff46610c448f09d09f3d61becaa55",
            "b819a37bd61e429ea42689bda0024aec",
            "44139cbfc7b64f3fb21ea6258b5f55c7",
            "398d8fe7874d48aa8fbca7a83cfb97e9",
            "986246c926b2464d9aad9f665e7cc75a",
            "31fed45c7aac45aa810a246eef005b03",
            "edccbb5e1290459bbe77c4fe581e4dcf",
            "10cb7878f759489596a8c16bbf423710",
            "8eb7d005e9484f1283e5f32ab8d6284f",
            "e0b883bb8a0847c297b969b981443c12",
            "7287446a6d334410ae6debce43b61132",
            "bf22c21b49e94cafaec9122a2c119475",
            "f7793145d9554f459234e12cf64a8e0b",
            "1db6ab26d7c54cbfa89771107129ad80",
            "ccb7fe04423e49ca9cd37ce30cef01b0",
            "e4aafa85bed848aa88c4ca1289e66f83",
            "318615b9ba774ea1a6d7a6a591927b1c",
            "2d64a692c0694082844d64603d4cb819",
            "3671be6c8f564fe2ab812615b7ce25b0",
            "f93e4a54b0af4e5fbfc2717d131e353b",
            "1fbf6412868841ff906e05237b16f680",
            "dcd52720702f4fb4a749706f8bd7fbf9",
            "8de71b9b67ea4030b714f2d5d9a9d482",
            "a55d7c7934ef49aeb55e76b548a01dc9",
            "be442e0c7b6941c2b30f9f599e76b608",
            "a4c9e1afc94d418d981472ff1825394f",
            "85471a5865854886bbceb941c868eac2",
            "242964b7150846ab883f1236f02c42b0",
            "425785402c594e0796b0ab015f3a3ac5",
            "98d39ae341d74565a3db4218c18d74d8",
            "ed9a539d98d24ee1bfcb8e7400c35924",
            "6e68653975534761857c16882f1c91a3",
            "991eb5953a3f4e74ba5390daf10d220f",
            "37f46c94e2e84dda8056d4286cf1ed72",
            "c8649a34571a4f4fb6cd061688facd3a",
            "b21ba703a4804ef694044d97aceb76a5",
            "b532c03188ec447a8983d9515b811ad6",
            "1fe5e301e4454bc08141ce5c9eefd7e5",
            "b8db7bcba2cd432d9535b8196e45b981",
            "d4256941e40a4c209a0d535cb7a1cca4",
            "79f34782daa94cfea452b2b215f2b80a",
            "13c6d78a124a4c97906dc6b68eaceff7",
            "989c1dc8be2e463c83b1609ed31790a1",
            "55c81470cd794e8c9426cc300baff0df",
            "f2770da9ad074767982c724b36e9c752",
            "60f4db5e110d433fa74ec8b686534a1f",
            "37bc7ddf9db243759b2b598530e48568",
            "c49b14f7b2a94abaaa05258eb6ebbb27",
            "bd1a288010344b78a1bf4e47ef8e1495",
            "d4c783809d35469cbbc46ca0c737c354",
            "b328db922d8f4e5eb896453091db0c00",
            "5f8c4fcb0aa84bc1b392a5d62089e53f",
            "20fbcaee1be4459da19033ad9180c610",
            "923c11e68d1b487aa594be9eeb93544c",
            "9588ed41cd484b6c81daecbefbd03866",
            "57952c12ce7c43fcac44c3732d3294f6"
          ]
        },
        "id": "Rx8RT_C4-ywk",
        "executionInfo": {
          "status": "ok",
          "timestamp": 1756476642761,
          "user_tz": 240,
          "elapsed": 37699,
          "user": {
            "displayName": "Vinod Anbalagan",
            "userId": "10582493003435195414"
          }
        },
        "outputId": "c98017d1-11a5-4985-9d4d-4b8c45b32da6"
      },
      "execution_count": null,
      "outputs": []
    },
    {
      "cell_type": "code",
      "source": [
        "print(\"--- Starting Scientist training ---\")\n",
        "scientist_trainer.train()\n",
        "scientist_trainer.save_model(scientist_final_save_path)\n",
        "print(f\"--- Scientist training complete. Final model saved to: {scientist_final_save_path} ---\")"
      ],
      "metadata": {
        "colab": {
          "base_uri": "https://localhost:8080/",
          "height": 204
        },
        "id": "iQjXEt1W-36c",
        "executionInfo": {
          "status": "ok",
          "timestamp": 1756480769707,
          "user_tz": 240,
          "elapsed": 4121357,
          "user": {
            "displayName": "Vinod Anbalagan",
            "userId": "10582493003435195414"
          }
        },
        "outputId": "06d72754-d2e9-49f7-cc14-3b1c3ddce235"
      },
      "execution_count": null,
      "outputs": []
    },
    {
      "cell_type": "markdown",
      "source": [
        "## DECAPITATE AND MERGE MODELS"
      ],
      "metadata": {
        "id": "Eopjqwbd_Ch5"
      }
    },
    {
      "cell_type": "code",
      "source": [
        "print(\"\\n\\n--- STEP 3: DECAPITATE AND MERGE MODELS ---\")\n",
        "\n",
        "# --- Decapitate and save BASE models to Google Drive ---\n",
        "print(\"--- Decapitating models (removing classification heads) ---\")\n",
        "poet_base_model = AutoModel.from_pretrained(poet_final_save_path)\n",
        "poet_base_model.save_pretrained(poet_base_save_path)\n",
        "print(f\"-> Poet base model saved to: {poet_base_save_path}\")\n",
        "\n",
        "scientist_base_model = AutoModel.from_pretrained(scientist_final_save_path)\n",
        "scientist_base_model.save_pretrained(scientist_base_save_path)\n",
        "print(f\"-> Scientist base model saved to: {scientist_base_save_path}\")\n",
        "\n",
        "# --- Manual PyTorch Merge ---\n",
        "print(\"\\n--- Performing manual merge with PyTorch ---\")\n",
        "model_a = AutoModel.from_pretrained(poet_base_save_path)\n",
        "model_b = AutoModel.from_pretrained(scientist_base_save_path)\n",
        "params_a = model_a.state_dict()\n",
        "params_b = model_b.state_dict()\n",
        "merged_params = OrderedDict()\n",
        "\n",
        "print(\"Averaging tensors for 50/50 merge...\")\n",
        "for key in params_a.keys():\n",
        "    merged_params[key] = (params_a[key] + params_b[key]) / 2.0\n",
        "\n",
        "template_model = AutoModel.from_pretrained(model_checkpoint)\n",
        "template_model.load_state_dict(merged_params)\n",
        "template_model.save_pretrained(frankenbert_final_save_path)\n",
        "tokenizer.save_pretrained(frankenbert_final_save_path)\n",
        "print(f\"--- MANUAL MERGE COMPLETE! FrankenBERT saved to: {frankenbert_final_save_path} ---\")"
      ],
      "metadata": {
        "colab": {
          "base_uri": "https://localhost:8080/"
        },
        "id": "cH8SA4JANchG",
        "executionInfo": {
          "status": "ok",
          "timestamp": 1756480777238,
          "user_tz": 240,
          "elapsed": 7375,
          "user": {
            "displayName": "Vinod Anbalagan",
            "userId": "10582493003435195414"
          }
        },
        "outputId": "6891d2f6-8394-4afa-f026-6c40aa78cbcb"
      },
      "execution_count": null,
      "outputs": []
    },
    {
      "cell_type": "markdown",
      "source": [
        "## The Grand Evaluation"
      ],
      "metadata": {
        "id": "Tb0RuhurbdXR"
      }
    },
    {
      "cell_type": "code",
      "source": [
        "print(\"\\n\\n--- STEP 4: EVALUATION ---\")\n",
        "\n",
        "def evaluate_model_on_task(model_path, dataset_name):\n",
        "    print(f\"\\n--- Evaluating {os.path.basename(model_path)} on {dataset_name} ---\")\n",
        "    if dataset_name == \"sst2\":\n",
        "        dataset = load_dataset(\"glue\", \"sst2\", split=\"validation\")\n",
        "        tokenized_dataset = dataset.map(tokenize_poet, batched=True)\n",
        "        num_labels = 2\n",
        "    elif dataset_name == \"ag_news\":\n",
        "        dataset = load_dataset(\"ag_news\", split=\"test\")\n",
        "        tokenized_dataset = dataset.map(tokenize_scientist, batched=True).rename_column(\"label\", \"labels\")\n",
        "        num_labels = 4\n",
        "    model = AutoModelForSequenceClassification.from_pretrained(model_path, num_labels=num_labels, ignore_mismatched_sizes=True)\n",
        "    eval_args = TrainingArguments(output_dir=\"/content/eval_temp\", per_device_eval_batch_size=64, report_to=\"none\")\n",
        "    eval_trainer = Trainer(model=model, args=eval_args, compute_metrics=compute_metrics)\n",
        "    results = eval_trainer.evaluate(eval_dataset=tokenized_dataset)\n",
        "    return results['eval_accuracy']\n",
        "\n",
        "results = {}\n",
        "models_to_test = {\n",
        "    \"poet_model\": poet_final_save_path,\n",
        "    \"scientist_model\": scientist_final_save_path,\n",
        "    \"frankenbert_model\": frankenbert_final_save_path\n",
        "}\n",
        "\n",
        "for model_name, model_path in models_to_test.items():\n",
        "    results[model_name] = {}\n",
        "    for dataset_name in [\"sst2\", \"ag_news\"]:\n",
        "        accuracy = evaluate_model_on_task(model_path, dataset_name)\n",
        "        results[model_name][dataset_name] = accuracy\n",
        "        print(f\"-> Accuracy for {model_name} on {dataset_name}: {accuracy:.4f}\")\n",
        "\n",
        "results_df = pd.DataFrame(results).T\n",
        "results_df.columns = [\"Sentiment Accuracy (SST-2)\", \"News Accuracy (AG News)\"]\n",
        "print(\"\\n\\n--- FINAL RESULTS ---\")\n",
        "print(results_df)"
      ],
      "metadata": {
        "id": "6Yep3HuGbfVo",
        "executionInfo": {
          "status": "ok",
          "timestamp": 1756480884924,
          "user_tz": 240,
          "elapsed": 107688,
          "user": {
            "displayName": "Vinod Anbalagan",
            "userId": "10582493003435195414"
          }
        },
        "colab": {
          "base_uri": "https://localhost:8080/",
          "height": 851
        },
        "outputId": "14a330d9-9d10-415f-a30a-aa6e4c8b5d19"
      },
      "execution_count": null,
      "outputs": []
    },
    {
      "cell_type": "markdown",
      "source": [
        "## Visualizations"
      ],
      "metadata": {
        "id": "nLgMtVb7bnvD"
      }
    },
    {
      "cell_type": "code",
      "source": [
        "print(\"\\n\\n--- STEP 5: VISUALIZATION AND EVIDENCE ---\")\n",
        "import seaborn as sns\n",
        "\n",
        "# --- Load final models for live prediction ---\n",
        "print(\"\\n--- Loading final models into memory for live predictions ---\")\n",
        "# Make sure to move models to the GPU if you have one\n",
        "poet_model = AutoModelForSequenceClassification.from_pretrained(poet_final_save_path).to(device)\n",
        "scientist_model = AutoModelForSequenceClassification.from_pretrained(scientist_final_save_path).to(device)\n",
        "frankenbert_model = AutoModelForSequenceClassification.from_pretrained(frankenbert_final_save_path).to(device)\n",
        "\n",
        "\n",
        "# --- The Grouped Bar Chart ---\n",
        "print(\"\\n--- Generating Bar Chart ---\")\n",
        "results_for_plot = results_df.reset_index().melt(id_vars='index', var_name='Task', value_name='Accuracy')\n",
        "results_for_plot.rename(columns={'index': 'Model'}, inplace=True)\n",
        "plt.figure(figsize=(12, 8))\n",
        "ax = sns.barplot(data=results_for_plot, x='Task', y='Accuracy', hue='Model', palette='viridis')\n",
        "for p in ax.patches:\n",
        "    ax.annotate(f\"{p.get_height():.2f}\", (p.get_x() + p.get_width() / 2., p.get_height()), ha='center', va='center', xytext=(0, 9), textcoords='offset points')\n",
        "plt.title('Specialist Performance vs. Merged Model Interference', fontsize=18)\n",
        "plt.ylabel('Validation Accuracy', fontsize=12)\n",
        "plt.xlabel('Evaluation Task', fontsize=12)\n",
        "plt.ylim(0, 1.0)\n",
        "plt.legend(title='Model', fontsize=11)\n",
        "plt.tight_layout()\n",
        "plt.show()\n",
        "\n",
        "# --- The Interference Heatmap ---\n",
        "print(\"\\n--- Generating Heatmap ---\")\n",
        "heatmap_data = []\n",
        "merge_ratios = [0.0, 0.25, 0.5, 0.75, 1.0]\n",
        "for ratio in merge_ratios:\n",
        "    print(f\"--- Evaluating merge ratio: {ratio} ---\")\n",
        "    merged_params = OrderedDict()\n",
        "    for key in params_a.keys():\n",
        "        merged_params[key] = (params_a[key] * ratio) + (params_b[key] * (1.0 - ratio))\n",
        "    template_model.load_state_dict(merged_params)\n",
        "    template_model.save_pretrained(temp_merge_path)\n",
        "    tokenizer.save_pretrained(temp_merge_path)\n",
        "    acc_sst2 = evaluate_model_on_task(temp_merge_path, \"sst2\")\n",
        "    acc_ag_news = evaluate_model_on_task(temp_merge_path, \"ag_news\")\n",
        "    heatmap_data.append({\"Poet Ratio\": ratio, \"Sentiment Accuracy (SST-2)\": acc_sst2, \"News Accuracy (AG News)\": acc_ag_news})\n",
        "\n",
        "heatmap_df = pd.DataFrame(heatmap_data).set_index(\"Poet Ratio\")\n",
        "plt.figure(figsize=(10, 6))\n",
        "sns.heatmap(heatmap_df.T, annot=True, fmt=\".3f\", cmap=\"viridis\", linewidths=.5)\n",
        "plt.title('Performance Heatmap of Model Merging', fontsize=18)\n",
        "plt.ylabel('Evaluation Task', fontsize=12)\n",
        "plt.xlabel('Merge Ratio (1.0 = 100% Poet)', fontsize=12)\n",
        "plt.show()\n",
        "print(\"\\n--- Heatmap Results ---\")\n",
        "print(heatmap_df)\n",
        "\n"
      ],
      "metadata": {
        "colab": {
          "base_uri": "https://localhost:8080/",
          "height": 1000
        },
        "id": "2esu4NTl_dEw",
        "executionInfo": {
          "status": "ok",
          "timestamp": 1756481515664,
          "user_tz": 240,
          "elapsed": 182573,
          "user": {
            "displayName": "Vinod Anbalagan",
            "userId": "10582493003435195414"
          }
        },
        "outputId": "ec4ab46a-343a-44a7-b6db-a813a22dd71b"
      },
      "execution_count": null,
      "outputs": []
    },
    {
      "cell_type": "markdown",
      "source": [
        "## Prediction Evidence"
      ],
      "metadata": {
        "id": "JTIy5qmC_hNV"
      }
    },
    {
      "cell_type": "code",
      "source": [
        "print(\"\\n\\n--- FINAL EVIDENCE: LIVE PREDICTIONS ---\")\n",
        "def get_prediction(model, tokenizer, text, label_map):\n",
        "    model.eval()\n",
        "    inputs = tokenizer(text, return_tensors=\"pt\", padding=True, truncation=True)\n",
        "    inputs = {k: v.to(model.device) for k, v in inputs.items()}\n",
        "    with torch.no_grad():\n",
        "        logits = model(**inputs).logits\n",
        "    probabilities = F.softmax(logits, dim=1)\n",
        "    confidence, predicted_class_idx = torch.max(probabilities, dim=1)\n",
        "    predicted_label = label_map[predicted_class_idx.item()]\n",
        "    confidence_score = confidence.item()\n",
        "    return predicted_label, confidence_score\n",
        "\n",
        "sst2_label_map = {0: 'NEGATIVE', 1: 'POSITIVE'}\n",
        "ag_news_label_map = {0: 'World', 1: 'Sports', 2: 'Business', 3: 'Sci/Tech'}\n",
        "sentiment_sentence = \"The film was a masterpiece of emotional storytelling.\"\n",
        "news_sentence = \"The central bank announced a new policy to curb inflation.\"\n",
        "\n",
        "print(\"=\"*50)\n",
        "print(f\"TASK 1: SENTIMENT ANALYSIS\\nInput: '{sentiment_sentence}'\")\n",
        "print(\"=\"*50)\n",
        "label, score = get_prediction(poet_model, tokenizer, sentiment_sentence, sst2_label_map)\n",
        "print(f\"Poet Model Prediction:     {label} (Confidence: {score:.2%})\")\n",
        "label, score = get_prediction(scientist_model, tokenizer, sentiment_sentence, sst2_label_map)\n",
        "print(f\"Scientist Model Prediction:  {label} (Confidence: {score:.2%})\")\n",
        "label, score = get_prediction(frankenbert_model, tokenizer, sentiment_sentence, sst2_label_map)\n",
        "print(f\"FrankenBERT Model Prediction: {label} (Confidence: {score:.2%})\")\n",
        "\n",
        "print(\"\\n\" + \"=\"*50)\n",
        "print(f\"TASK 2: NEWS CLASSIFICATION\\nInput: '{news_sentence}'\")\n",
        "print(\"=\"*50)\n",
        "label, score = get_prediction(poet_model, tokenizer, news_sentence, ag_news_label_map)\n",
        "print(f\"Poet Model Prediction:     {label} (Confidence: {score:.2%})\")\n",
        "label, score = get_prediction(scientist_model, tokenizer, news_sentence, ag_news_label_map)\n",
        "print(f\"Scientist Model Prediction:  {label} (Confidence: {score:.2%})\")\n",
        "label, score = get_prediction(frankenbert_model, tokenizer, news_sentence, ag_news_label_map)\n",
        "print(f\"FrankenBERT Model Prediction: {label} (Confidence: {score:.2%})\")"
      ],
      "metadata": {
        "colab": {
          "base_uri": "https://localhost:8080/"
        },
        "id": "3FTmR0qE_ixe",
        "executionInfo": {
          "status": "ok",
          "timestamp": 1756481522238,
          "user_tz": 240,
          "elapsed": 172,
          "user": {
            "displayName": "Vinod Anbalagan",
            "userId": "10582493003435195414"
          }
        },
        "outputId": "d385f800-65c1-4fcb-aebd-6d3cd1e67e8d"
      },
      "execution_count": null,
      "outputs": []
    },
    {
      "cell_type": "code",
      "metadata": {
        "colab": {
          "base_uri": "https://localhost:8080/"
        },
        "id": "6d54cb51",
        "executionInfo": {
          "status": "ok",
          "timestamp": 1756513220369,
          "user_tz": 240,
          "elapsed": 1646,
          "user": {
            "displayName": "Vinod Anbalagan",
            "userId": "10582493003435195414"
          }
        },
        "outputId": "9e1c9853-295c-4c8f-f4dc-5ca42770debe"
      },
      "source": [
        "import json\n",
        "from google.colab import drive\n",
        "\n",
        "# Define the path to your notebook in Google Drive\n",
        "notebook_path = '/content/drive/MyDrive/Colab_Notebooks/FrankenBERT.ipynb' # Replace with your notebook path\n",
        "\n",
        "# Mount Google Drive if not already mounted\n",
        "try:\n",
        "    drive.mount('/content/drive', force_remount=True)\n",
        "    print(\"Google Drive mounted successfully.\")\n",
        "except:\n",
        "    print(\"Google Drive already mounted.\")\n",
        "\n",
        "# Load the notebook file\n",
        "with open(notebook_path, 'r') as f:\n",
        "    notebook_content = json.load(f)\n",
        "\n",
        "# Remove the 'outputs' and 'execution_count' from code cells\n",
        "# and 'metadata' from the notebook\n",
        "for cell in notebook_content['cells']:\n",
        "    if cell['cell_type'] == 'code':\n",
        "        cell['outputs'] = []\n",
        "        cell['execution_count'] = None\n",
        "    if 'metadata' in cell:\n",
        "        if 'widgets' in cell['metadata']:\n",
        "            del cell['metadata']['widgets']\n",
        "\n",
        "if 'metadata' in notebook_content:\n",
        "    if 'widgets' in notebook_content['metadata']:\n",
        "        del notebook_content['metadata']['widgets']\n",
        "\n",
        "\n",
        "# Define a new path to save the cleaned notebook\n",
        "cleaned_notebook_path = '/content/FrankenBERT_cleaned.ipynb' # Saves to the local Colab environment\n",
        "\n",
        "# Save the modified notebook\n",
        "with open(cleaned_notebook_path, 'w') as f:\n",
        "    json.dump(notebook_content, f, indent=2)\n",
        "\n",
        "print(f\"\\nWidget state removed. Cleaned notebook saved to: {cleaned_notebook_path}\")\n",
        "print(\"You can now download this file from the Colab file explorer (the folder icon on the left sidebar).\")"
      ],
      "execution_count": null,
      "outputs": []
    }
  ]
}